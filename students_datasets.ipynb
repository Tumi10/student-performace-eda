{
 "cells": [
  {
   "cell_type": "code",
   "execution_count": null,
   "id": "90d2c202-eb23-4d0c-977f-5ddc91d5da19",
   "metadata": {},
   "outputs": [],
   "source": [
    "import pandas as pd\n",
    "import numpy as np \n",
    "import matplotlib \n",
    "from matplotlib import pyplot as plt"
   ]
  },
  {
   "cell_type": "markdown",
   "id": "7908e8e8-758b-4ef5-8fc7-2a1b82d6e264",
   "metadata": {},
   "source": [
    "# General Data Insights"
   ]
  },
  {
   "cell_type": "code",
   "execution_count": 28,
   "id": "696d078a-d44a-416f-9d44-5bcaea1bb767",
   "metadata": {},
   "outputs": [
    {
     "data": {
      "text/html": [
       "<div>\n",
       "<style scoped>\n",
       "    .dataframe tbody tr th:only-of-type {\n",
       "        vertical-align: middle;\n",
       "    }\n",
       "\n",
       "    .dataframe tbody tr th {\n",
       "        vertical-align: top;\n",
       "    }\n",
       "\n",
       "    .dataframe thead th {\n",
       "        text-align: right;\n",
       "    }\n",
       "</style>\n",
       "<table border=\"1\" class=\"dataframe\">\n",
       "  <thead>\n",
       "    <tr style=\"text-align: right;\">\n",
       "      <th></th>\n",
       "      <th>Student_Names</th>\n",
       "      <th>Phone_No.</th>\n",
       "      <th>Math</th>\n",
       "      <th>Physics</th>\n",
       "      <th>Chemistry</th>\n",
       "      <th>Grade</th>\n",
       "      <th>Comment</th>\n",
       "      <th>Roll No.</th>\n",
       "      <th>School Name</th>\n",
       "      <th>Student Address</th>\n",
       "    </tr>\n",
       "  </thead>\n",
       "  <tbody>\n",
       "    <tr>\n",
       "      <th>0</th>\n",
       "      <td>Donald Contreras</td>\n",
       "      <td>9208625450</td>\n",
       "      <td>76</td>\n",
       "      <td>84</td>\n",
       "      <td>54</td>\n",
       "      <td>B+</td>\n",
       "      <td>Good Pursuance</td>\n",
       "      <td>524613</td>\n",
       "      <td>Martin Luther School</td>\n",
       "      <td>478 Mooney Park, New Valerie, VI 28836</td>\n",
       "    </tr>\n",
       "    <tr>\n",
       "      <th>1</th>\n",
       "      <td>Joseph Horton</td>\n",
       "      <td>9886408555</td>\n",
       "      <td>91</td>\n",
       "      <td>75</td>\n",
       "      <td>78</td>\n",
       "      <td>A</td>\n",
       "      <td>Very Good Achivement</td>\n",
       "      <td>561635</td>\n",
       "      <td>Martin Luther School</td>\n",
       "      <td>037 Matthew Shores, Greeneton, CA 98399</td>\n",
       "    </tr>\n",
       "    <tr>\n",
       "      <th>2</th>\n",
       "      <td>Savannah Burns MD</td>\n",
       "      <td>9047592659</td>\n",
       "      <td>64</td>\n",
       "      <td>98</td>\n",
       "      <td>20</td>\n",
       "      <td>C</td>\n",
       "      <td>Below Average Achivement</td>\n",
       "      <td>560985</td>\n",
       "      <td>Martin Luther School</td>\n",
       "      <td>96124 Lloyd Streets, Edwardmouth, DC 61677</td>\n",
       "    </tr>\n",
       "    <tr>\n",
       "      <th>3</th>\n",
       "      <td>William Carter</td>\n",
       "      <td>9048473864</td>\n",
       "      <td>15</td>\n",
       "      <td>95</td>\n",
       "      <td>32</td>\n",
       "      <td>D</td>\n",
       "      <td>Poor Pursuance</td>\n",
       "      <td>535126</td>\n",
       "      <td>Martin Luther School</td>\n",
       "      <td>11959 Clark Village, Ivanview, NH 43940</td>\n",
       "    </tr>\n",
       "    <tr>\n",
       "      <th>4</th>\n",
       "      <td>John Rodriguez</td>\n",
       "      <td>9685225730</td>\n",
       "      <td>86</td>\n",
       "      <td>86</td>\n",
       "      <td>66</td>\n",
       "      <td>B+</td>\n",
       "      <td>Good Pursuance</td>\n",
       "      <td>559410</td>\n",
       "      <td>Martin Luther School</td>\n",
       "      <td>051 Weaver Glen Apt. 724, West Davidborough, M...</td>\n",
       "    </tr>\n",
       "  </tbody>\n",
       "</table>\n",
       "</div>"
      ],
      "text/plain": [
       "       Student_Names   Phone_No.  Math  Physics  Chemistry Grade  \\\n",
       "0   Donald Contreras  9208625450    76       84         54    B+   \n",
       "1      Joseph Horton  9886408555    91       75         78     A   \n",
       "2  Savannah Burns MD  9047592659    64       98         20     C   \n",
       "3     William Carter  9048473864    15       95         32     D   \n",
       "4     John Rodriguez  9685225730    86       86         66    B+   \n",
       "\n",
       "                    Comment  Roll No.           School Name  \\\n",
       "0            Good Pursuance    524613  Martin Luther School   \n",
       "1      Very Good Achivement    561635  Martin Luther School   \n",
       "2  Below Average Achivement    560985  Martin Luther School   \n",
       "3            Poor Pursuance    535126  Martin Luther School   \n",
       "4            Good Pursuance    559410  Martin Luther School   \n",
       "\n",
       "                                     Student Address  \n",
       "0             478 Mooney Park, New Valerie, VI 28836  \n",
       "1            037 Matthew Shores, Greeneton, CA 98399  \n",
       "2         96124 Lloyd Streets, Edwardmouth, DC 61677  \n",
       "3            11959 Clark Village, Ivanview, NH 43940  \n",
       "4  051 Weaver Glen Apt. 724, West Davidborough, M...  "
      ]
     },
     "execution_count": 28,
     "metadata": {},
     "output_type": "execute_result"
    }
   ],
   "source": [
    "d_frame= pd.read_csv(r\"C:\\Users\\tumel\\OneDrive\\Desktop\\Tuks Personal Projects\\Datasets\\Student Dataset\\Student Dataset\\student_dataset.csv\")\n",
    "d_frame.head()"
   ]
  },
  {
   "cell_type": "code",
   "execution_count": 30,
   "id": "1faf6005-5459-4010-b727-b3ade0c5f4d6",
   "metadata": {},
   "outputs": [
    {
     "name": "stdout",
     "output_type": "stream",
     "text": [
      "9000\n"
     ]
    }
   ],
   "source": [
    "#How many students are in the dataset\n",
    "print(len( d_frame[\"Student_Names\"]))"
   ]
  },
  {
   "cell_type": "code",
   "execution_count": 40,
   "id": "9ef2db28-ad8a-4d6d-ad36-a37ce3274359",
   "metadata": {},
   "outputs": [
    {
     "name": "stdout",
     "output_type": "stream",
     "text": [
      "Grade\n",
      "D     2887\n",
      "C     2187\n",
      "B     1797\n",
      "B+    1014\n",
      "F      706\n",
      "A      360\n",
      "A+      49\n",
      "Name: count, dtype: int64\n"
     ]
    }
   ],
   "source": [
    "# what is the distribtion of grades across all students\n",
    "# distribution refers to how frequently each grade appears across all student records\n",
    "grade_counts=d_frame['Grade'].value_counts()\n",
    "print(grade_counts)"
   ]
  },
  {
   "cell_type": "code",
   "execution_count": 118,
   "id": "0fe88920-4124-4d8f-a4c3-21ecf0b5837a",
   "metadata": {},
   "outputs": [
    {
     "name": "stdout",
     "output_type": "stream",
     "text": [
      "maximum in the maths column: 100\n",
      "Minimum in the maths column: 10\n",
      "average in the math column: 55.27611111111111\n"
     ]
    }
   ],
   "source": [
    "# what is the average , minmun , and maximun score for math , physics and chemistry \n",
    "# maximun score for maths\n",
    "largest_math= max( d_frame['Math'])\n",
    "print( \"maximum in the maths column:\",largest_math)\n",
    "#minimum score for maths\n",
    "lowest_maths=min( d_frame[\"Math\"])\n",
    "print(\"Minimum in the maths column:\", lowest_maths)\n",
    "#average mark in for maths\n",
    "average_maths = d_frame[\"Math\"].mean()\n",
    "print(\"average in the math column:\", average_maths)"
   ]
  },
  {
   "cell_type": "code",
   "execution_count": 64,
   "id": "0682b566-2f8f-40a5-ba0d-6723ed478314",
   "metadata": {},
   "outputs": [
    {
     "name": "stdout",
     "output_type": "stream",
     "text": [
      "maximum in the Physics column: 100\n",
      "Minimum in the Physics column: 10\n",
      "average in the Physics column: 54.69755555555555\n"
     ]
    }
   ],
   "source": [
    "# maximun score for physics\n",
    "largest_Physics= max( d_frame['Physics'])\n",
    "print( \"maximum in the Physics column:\",largest_Physics)\n",
    "#minimum score for physics\n",
    "lowest_Physics=min( d_frame[\"Physics\"])\n",
    "print(\"Minimum in the Physics column:\", lowest_Physics)\n",
    "#average mark in for physics\n",
    "average_Physics = d_frame[\"Physics\"].mean()\n",
    "print(\"average in the Physics column:\", average_Physics)"
   ]
  },
  {
   "cell_type": "code",
   "execution_count": 66,
   "id": "001ac2aa-d7b1-4ca8-bea1-84ca3c7f8832",
   "metadata": {},
   "outputs": [
    {
     "name": "stdout",
     "output_type": "stream",
     "text": [
      "maximun in the chemistry column: 100\n",
      "minimum in the chemistry column 10\n",
      "average in the chemistry : 54.85488888888889\n"
     ]
    }
   ],
   "source": [
    "#maximum score for chemistry \n",
    "largest_chem= max ( d_frame[\"Chemistry\"])\n",
    "print(\"maximun in the chemistry column:\",largest_chem)\n",
    "#minimum score for chemistry \n",
    "lowest_chem=min(d_frame[\"Chemistry\"])\n",
    "print(\"minimum in the chemistry column\",lowest_chem)\n",
    "#average score for chemistry\n",
    "average_chem=(d_frame[\"Chemistry\"].mean())\n",
    "print(\"average in the chemistry :\",average_chem)"
   ]
  },
  {
   "cell_type": "code",
   "execution_count": 72,
   "id": "75ccdfee-29fa-4b4a-b919-37e884752317",
   "metadata": {},
   "outputs": [
    {
     "name": "stdout",
     "output_type": "stream",
     "text": [
      "Student_Names      0\n",
      "Phone_No.          0\n",
      "Math               0\n",
      "Physics            0\n",
      "Chemistry          0\n",
      "Grade              0\n",
      "Comment            0\n",
      "Roll No.           0\n",
      "School Name        0\n",
      "Student Address    0\n",
      "dtype: int64\n"
     ]
    }
   ],
   "source": [
    "# Checking for any missing values in the dataset\n",
    "print(d_frame.isnull().sum())"
   ]
  },
  {
   "cell_type": "markdown",
   "id": "e9a11b35-fc1e-4e7f-bdf0-98d3ef918517",
   "metadata": {},
   "source": [
    "# Peformance by Subject "
   ]
  },
  {
   "cell_type": "code",
   "execution_count": 104,
   "id": "c35d52fe-8506-4a92-8e24-dd947534803d",
   "metadata": {},
   "outputs": [
    {
     "name": "stdout",
     "output_type": "stream",
     "text": [
      "Math: 43.42% students failed\n",
      "Physics: 44.19% students failed\n",
      "Chemistry: 43.84% students failed\n"
     ]
    }
   ],
   "source": [
    "threshold = 50\n",
    "total_students = len(d_frame)\n",
    "\n",
    "# Dictionary to store failure percentages\n",
    "failure_rates = {\n",
    "    'Math': (d_frame['Math'] < threshold).sum() / total_students * 100,\n",
    "    'Physics': (d_frame['Physics'] < threshold).sum() / total_students * 100,\n",
    "    'Chemistry': (d_frame['Chemistry'] < threshold).sum() / total_students * 100\n",
    "}\n",
    "\n",
    "# Display results\n",
    "for subject, rate in failure_rates.items():\n",
    "    print(f\"{subject}: {rate:.2f}% students failed\")\n"
   ]
  },
  {
   "cell_type": "code",
   "execution_count": 115,
   "id": "f6a17cc9-017f-457e-9d3d-ec1c519ee2bf",
   "metadata": {},
   "outputs": [
    {
     "name": "stdout",
     "output_type": "stream",
     "text": [
      "Standard Deviations:\n",
      "Math: 26.26\n",
      "Physics: 26.26\n",
      "Chemistry: 26.26\n",
      "\n",
      " Subject with the largest variation: Chemistry\n"
     ]
    }
   ],
   "source": [
    "# Calculate standard deviation for each subject\n",
    "std_devs = {\n",
    "    'Math': d_frame['Math'].std(),\n",
    "    'Physics': d_frame['Physics'].std(),\n",
    "    'Chemistry': d_frame['Chemistry'].std()\n",
    "}\n",
    "\n",
    "# Find subject with largest variation\n",
    "largest_variation_subject = max(std_devs, key=std_devs.get)\n",
    "\n",
    "print(\"Standard Deviations:\")\n",
    "\n",
    "for  subject,d in std_devs.items():\n",
    "    # this will format the std to 2 decimal places \n",
    "    print(f\"{subject}: {std:.2f}\")\n",
    "\n",
    "print(f\"\\n Subject with the largest variation: {largest_variation_subject}\")"
   ]
  },
  {
   "cell_type": "markdown",
   "id": "8d86bf51-e803-497f-8f76-e5667a2a0d0d",
   "metadata": {},
   "source": [
    "# Correlation & Relationships"
   ]
  },
  {
   "cell_type": "code",
   "execution_count": 120,
   "id": "952ed758-e2db-452d-a98f-026e354fa078",
   "metadata": {},
   "outputs": [
    {
     "name": "stdout",
     "output_type": "stream",
     "text": [
      "               Math   Physics  Chemistry\n",
      "Math       1.000000 -0.011533   0.021063\n",
      "Physics   -0.011533  1.000000   0.001296\n",
      "Chemistry  0.021063  0.001296   1.000000\n"
     ]
    }
   ],
   "source": [
    "# Find the correlation between the subjects\n",
    "correlation_matrix = d_frame[['Math', 'Physics', 'Chemistry']].corr()\n",
    "print(correlation_matrix)\n",
    "#Values close to 1.0 =strong positive correlation\n",
    "#Values close to 0.0 0no correlation\n",
    "#Values close to –1.0= strong negative correlation\n"
   ]
  },
  {
   "cell_type": "code",
   "execution_count": 122,
   "id": "df1685c5-b081-4016-8869-a9835569f160",
   "metadata": {},
   "outputs": [
    {
     "name": "stdout",
     "output_type": "stream",
     "text": [
      "             Math   Physics\n",
      "Math     1.000000 -0.011533\n",
      "Physics -0.011533  1.000000\n"
     ]
    }
   ],
   "source": [
    "# do higher math score generally corresponf with higher physics scores\n",
    "correlation = d_frame[['Math', 'Physics']].corr()\n",
    "print(correlation)\n",
    "#Values close to 1.0 =strong positive correlation\n",
    "#Values close to 0.0 0no correlation\n",
    "#Values close to –1.0= strong negative correlation"
   ]
  },
  {
   "cell_type": "markdown",
   "id": "c0d06b58-5dd2-4c5f-bdfd-5a902341bac8",
   "metadata": {},
   "source": [
    "# Advanced Analysis"
   ]
  },
  {
   "cell_type": "code",
   "execution_count": 141,
   "id": "9708089d-d872-4ea3-9755-61562445bfbb",
   "metadata": {},
   "outputs": [
    {
     "name": "stdout",
     "output_type": "stream",
     "text": [
      "      Roll No.    Student_Names  Math  Physics  Chemistry  Avg_Score Grade\n",
      "8270    594544     Lisa Swanson    97       96         98  97.000000    A+\n",
      "7015    554337  Joshua Stafford    98       95         98  97.000000    A+\n",
      "3874    541608       Eric Baker   100       94         97  97.000000    A+\n",
      "8607    515177       Anna Hardy    97       98         95  96.666667    A+\n",
      "1538    538288    Michael Ellis    98       97         95  96.666667    A+\n",
      "2640    553430    Dillon Palmer    99       98         92  96.333333    A+\n",
      "1001    515258  Daniel Anderson    93       99         95  95.666667    A+\n",
      "2201    523148   Felicia Thomas    96       93         98  95.666667    A+\n",
      "1427    519603      Penny Young    99       98         89  95.333333    A+\n",
      "7598    586051  Stephanie Adams    94       96         94  94.666667    A+\n"
     ]
    }
   ],
   "source": [
    "#identify top 10 performers based on average subject scores\n",
    "\n",
    "# Calculate average score\n",
    "d_frame['Avg_Score'] = d_frame[['Math', 'Physics', 'Chemistry']].mean(axis=1)\n",
    "\n",
    "# Sort and select top 10\n",
    "top_10 = d_frame.sort_values(by='Avg_Score', ascending=False).head(10)\n",
    "\n",
    "# Display relevant columns\n",
    "print(top_10[['Roll No.', 'Student_Names', 'Math', 'Physics', 'Chemistry', 'Avg_Score', 'Grade']])\n"
   ]
  },
  {
   "cell_type": "code",
   "execution_count": 151,
   "id": "bf6fda03-f3fe-4437-9745-79a0411754d3",
   "metadata": {},
   "outputs": [
    {
     "name": "stdout",
     "output_type": "stream",
     "text": [
      "      Roll No.        Student_Names  Math  Physics  Chemistry  Avg_Score Grade\n",
      "2587    569850           Jill Jones    11       10         12  11.000000     F\n",
      "8771    571422        Theresa Keith    11       13         12  12.000000     F\n",
      "5821    515760     Deborah Campbell    11       13         17  13.666667     F\n",
      "185     590570         Nicole Lewis    17       14         10  13.666667     F\n",
      "3108    519255      Benjamin Garcia    14       12         15  13.666667     F\n",
      "5139    533228         Johnny Solis    13       15         14  14.000000     F\n",
      "8465    597163         Jacob Bailey    12       20         10  14.000000     F\n",
      "860     538319  Alexandria Gonzales    13       18         12  14.333333     F\n",
      "8336    531757       Tiffany Archer    16       14         15  15.000000     F\n",
      "4678    545233        Jeffery Baker    14       14         17  15.000000     F\n"
     ]
    }
   ],
   "source": [
    "# idemtify top 10 performers who need academic support\n",
    "# calculate average score\n",
    "d_frame['Avg_score']=d_frame[[\"Math\",\"Physics\",\"Chemistry\"]].mean(axis=1)\n",
    "# score and select top 10 \n",
    "bottom_10=d_frame.sort_values(by=\"Avg_score\",ascending=True).head(10)\n",
    "# display relevant columns\n",
    "print(bottom_10[['Roll No.', 'Student_Names', 'Math', 'Physics', 'Chemistry', 'Avg_Score', 'Grade']])"
   ]
  },
  {
   "cell_type": "code",
   "execution_count": 159,
   "id": "21a5917b-850f-472c-831c-73214ebeaeda",
   "metadata": {},
   "outputs": [
    {
     "name": "stdout",
     "output_type": "stream",
     "text": [
      "      Roll No.      Student_Names  Avg_Score Performance_Group\n",
      "0       524613   Donald Contreras  71.333333            Medium\n",
      "1       561635      Joseph Horton  81.333333              High\n",
      "2       560985  Savannah Burns MD  60.666667            Medium\n",
      "3       535126     William Carter  47.333333               Low\n",
      "4       559410     John Rodriguez  79.333333            Medium\n",
      "...        ...                ...        ...               ...\n",
      "8995    569342   Kimberly Stevens  64.000000            Medium\n",
      "8996    530124     Kelsey Bonilla  71.666667            Medium\n",
      "8997    592266         Kelly Dunn  55.333333               Low\n",
      "8998    583028     Joseph Nichols  59.333333               Low\n",
      "8999    503637    Susan Armstrong  41.666667               Low\n",
      "\n",
      "[9000 rows x 4 columns]\n"
     ]
    },
    {
     "data": {
      "text/plain": [
       "<Axes: xlabel='Performance_Group', ylabel='count'>"
      ]
     },
     "execution_count": 159,
     "metadata": {},
     "output_type": "execute_result"
    },
    {
     "data": {
      "image/png": "[encoded data removed]",
      "text/plain": [
       "<Figure size 640x480 with 1 Axes>"
      ]
     },
     "metadata": {},
     "output_type": "display_data"
    }
   ],
   "source": [
    "import seaborn as sns\n",
    "# Calculate average score\n",
    "d_frame['Avg_Score'] = d_frame[['Math', 'Physics', 'Chemistry']].mean(axis=1)\n",
    "\n",
    "# Define performance groups\n",
    "d_frame['Performance_Group'] = pd.cut(\n",
    "    d_frame['Avg_Score'],\n",
    "    bins=[0, 60, 80, 100],\n",
    "    labels=['Low', 'Medium', 'High'],\n",
    "    include_lowest=True\n",
    ")\n",
    "\n",
    "# View grouped students\n",
    "print(d_frame[['Roll No.', 'Student_Names', 'Avg_Score', 'Performance_Group']])\n",
    "sns.countplot(data=d_frame, x='Performance_Group')\n"
   ]
  },
  {
   "cell_type": "code",
   "execution_count": 190,
   "id": "fa6f043f-7620-4a0b-8ce9-974af677b8e6",
   "metadata": {},
   "outputs": [
    {
     "name": "stdout",
     "output_type": "stream",
     "text": [
      "Index(['A', 'A+', 'B', 'B+', 'C', 'D', 'F'], dtype='object', name='Grade')\n",
      "[ 360   49 1797 1014 2187 2887  706]\n",
      "Grade\n",
      "D     2887\n",
      "C     2187\n",
      "B     1797\n",
      "B+    1014\n",
      "F      706\n",
      "A      360\n",
      "A+      49\n",
      "Name: count, dtype: int64\n",
      "Grade\n",
      "A      360\n",
      "A+      49\n",
      "B     1797\n",
      "B+    1014\n",
      "C     2187\n",
      "D     2887\n",
      "F      706\n",
      "Name: count, dtype: int64\n"
     ]
    },
    {
     "name": "stderr",
     "output_type": "stream",
     "text": [
      "C:\\Users\\tumel\\AppData\\Local\\Temp\\ipykernel_21360\\3192088038.py:12: FutureWarning: \n",
      "\n",
      "Passing `palette` without assigning `hue` is deprecated and will be removed in v0.14.0. Assign the `x` variable to `hue` and set `legend=False` for the same effect.\n",
      "\n",
      "  sns.barplot(x=grade_counts.index, y=grade_counts.values, palette=\"viridis\")\n"
     ]
    },
    {
     "data": {
      "image/png": "[encoded data removed]",
      "text/plain": [
       "<Figure size 800x500 with 1 Axes>"
      ]
     },
     "metadata": {},
     "output_type": "display_data"
    }
   ],
   "source": [
    "#Using seaborn and matplotlib for data visualisation\n",
    "import matplotlib.pyplot as plt\n",
    "import seaborn as sns\n",
    "grade_counts = d_frame['Grade'].value_counts().sort_index()\n",
    "\n",
    "sns.set(style=\"whitegrid\")\n",
    "plt.figure(figsize=(8, 5))\n",
    "sns.barplot(x=grade_counts.index, y=grade_counts.values, palette=\"viridis\")\n",
    "\n",
    "plt.title('Grade Distribution')\n",
    "plt.xlabel('Grade')\n",
    "plt.ylabel('Number of Students')\n",
    "plt.tight_layout()\n",
    "plt.show()\n"
   ]
  },
  {
   "cell_type": "markdown",
   "id": "16e6b9af-f444-455b-a88d-2873052e6c9a",
   "metadata": {},
   "source": [
    "#### END OF CODE####"
   ]
  },
  {
   "cell_type": "code",
   "execution_count": null,
   "id": "9ae0ebbf-8045-43d6-9dc9-0ba5b43ebd88",
   "metadata": {},
   "outputs": [],
   "source": []
  },
  {
   "cell_type": "code",
   "execution_count": null,
   "id": "f2ad63b8-3917-4b24-a0a9-d9581565cd89",
   "metadata": {},
   "outputs": [],
   "source": []
  }
 ],
 "metadata": {
  "kernelspec": {
   "display_name": "Python [conda env:base] *",
   "language": "python",
   "name": "conda-base-py"
  },
  "language_info": {
   "codemirror_mode": {
    "name": "ipython",
    "version": 3
   },
   "file_extension": ".py",
   "mimetype": "text/x-python",
   "name": "python",
   "nbconvert_exporter": "python",
   "pygments_lexer": "ipython3",
   "version": "3.12.7"
  }
 },
 "nbformat": 4,
 "nbformat_minor": 5
}
